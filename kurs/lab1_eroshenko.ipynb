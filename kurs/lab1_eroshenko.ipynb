{
 "cells": [
  {
   "cell_type": "markdown",
   "metadata": {},
   "source": [
    "# Check if the string is Symmetrical or Palindrome\n",
    "\n",
    "Given a string. The task is to check if the string is symmetrical or palindrome. A string is said to be symmetrical if both the halves of the string are the same and a string is said to be a palindrome string if one half of the string is the reverse of the other half or if a string appears same when read forward or backward.\n",
    "\n",
    "    Input: khokho\n",
    "    Output: \n",
    "    The entered string is symmetrical\n",
    "    The entered string is not palindrome\n",
    "\n",
    "    Input: amaama\n",
    "    Output:\n",
    "    The entered string is symmetrical\n",
    "    The entered string is palindrome"
   ]
  },
  {
   "cell_type": "code",
   "execution_count": 2,
   "metadata": {},
   "outputs": [
    {
     "name": "stdin",
     "output_type": "stream",
     "text": [
      "Input: amaama\n"
     ]
    },
    {
     "name": "stdout",
     "output_type": "stream",
     "text": [
      "Output:\n",
      "The entered string is symmetrical\n",
      "The entered string is palindrome\n"
     ]
    }
   ],
   "source": [
    "word = input(\"Input:\")\n",
    "word_len = len(word)\n",
    "print(\"Output:\")\n",
    "if not word_len % 2:\n",
    "    part_1 = word[: int(word_len/2)]\n",
    "    part_2 = word[int(word_len/2) :]\n",
    "    if part_1 == part_2:\n",
    "        print(\"The entered string is symmetrical\")\n",
    "    else:\n",
    "        print(\"The entered string is not symmetrical\")\n",
    "    if part_1 == part_2[::-1]:\n",
    "        print(\"The entered string is palindrome\")\n",
    "    else:\n",
    "        print(\"The entered string is not palindrome\")"
   ]
  },
  {
   "cell_type": "markdown",
   "metadata": {},
   "source": [
    "# Multiply numbers\n",
    "\n",
    "Given two numbers. The task is to mutiply them without using the * operator.\n",
    "\n",
    "    Input : 12, 12\n",
    "    Output : 144\n",
    "\n",
    "    Input : 19, 0\n",
    "    Output : 0\n",
    "\n",
    "    Input : 1.1, 17.2\n",
    "    Output : 18.92\n",
    "\n",
    "    Input : -2, 4\n",
    "    Output : -8"
   ]
  },
  {
   "cell_type": "code",
   "execution_count": 3,
   "metadata": {},
   "outputs": [
    {
     "name": "stdin",
     "output_type": "stream",
     "text": [
      "Input : 1.1, 17.2\n"
     ]
    },
    {
     "name": "stdout",
     "output_type": "stream",
     "text": [
      "Output : 18.92\n"
     ]
    }
   ],
   "source": [
    "try:\n",
    "    a, b = map(float, input(\"Input :\").split(\",\"))\n",
    "    if not a or not b:\n",
    "        print(\"Output : 0\")\n",
    "    else:\n",
    "        res = round(((a+b)**2 - a**2 - b**2 ) / 2, 2)\n",
    "        res_int = int(res)\n",
    "        if res == res_int:\n",
    "            res = res_int\n",
    "        print(f\"Output : {res}\")\n",
    "except:\n",
    "    print(\"Data entry is error\")"
   ]
  },
  {
   "cell_type": "markdown",
   "metadata": {},
   "source": [
    "# Check for balanced parentheses\n",
    "\n",
    "Given an expression string, write a python program to find whether a given string has balanced parentheses or not.\n",
    "\n",
    "    Input : {[]{()}}\n",
    "    Output : Balanced\n",
    "\n",
    "    Input : [{}{}(]\n",
    "    Output : Unbalanced\n",
    "\n",
    "    Input : {][{()}}\n",
    "    Output : Unbalanced"
   ]
  },
  {
   "cell_type": "code",
   "execution_count": 4,
   "metadata": {},
   "outputs": [
    {
     "name": "stdin",
     "output_type": "stream",
     "text": [
      "Input: [{}{}(]\n"
     ]
    },
    {
     "name": "stdout",
     "output_type": "stream",
     "text": [
      "Output : Unbalanced\n"
     ]
    }
   ],
   "source": [
    "input_string = input(\"Input:\")\n",
    "check_dict = {\"{}\": 0, \"()\": 0, \"[]\": 0}\n",
    "cur_clousing = [\"\"]\n",
    "res = \"\"\n",
    "for i in input_string:\n",
    "\n",
    "    if i == \"{\":\n",
    "        check_dict[\"{}\"] += 1\n",
    "        cur_clousing.append(\"}\")\n",
    "    elif i == \"}\" and cur_clousing[-1] == \"}\":\n",
    "        check_dict[\"{}\"] -= 1\n",
    "        del cur_clousing[-1]\n",
    "        \n",
    "    elif i == \"(\":\n",
    "        check_dict[\"()\"] += 1\n",
    "        cur_clousing.append(\")\")\n",
    "    elif i == \")\" and cur_clousing[-1] == \")\":\n",
    "        check_dict[\"()\"] -= 1\n",
    "        del cur_clousing[-1]\n",
    "    \n",
    "    elif i == \"[\":\n",
    "        check_dict[\"[]\"] += 1\n",
    "        cur_clousing.append(\"]\")\n",
    "    elif i == \"]\" and cur_clousing[-1] == \"]\":\n",
    "        check_dict[\"[]\"] -= 1\n",
    "        del cur_clousing[-1]\n",
    "        \n",
    "    else:\n",
    "        res = \"Unbalanced\"\n",
    "        break\n",
    "    \n",
    "if not res:\n",
    "    for values in check_dict.values():\n",
    "        if values != 0:\n",
    "            res = \"Unbalanced\"\n",
    "            break\n",
    "        else:\n",
    "            res = \"Balanced\"\n",
    "print(f'Output : {res}')\n",
    "    \n"
   ]
  },
  {
   "cell_type": "code",
   "execution_count": null,
   "metadata": {},
   "outputs": [],
   "source": []
  }
 ],
 "metadata": {
  "kernelspec": {
   "display_name": "Python 3 (ipykernel)",
   "language": "python",
   "name": "python3"
  },
  "language_info": {
   "codemirror_mode": {
    "name": "ipython",
    "version": 3
   },
   "file_extension": ".py",
   "mimetype": "text/x-python",
   "name": "python",
   "nbconvert_exporter": "python",
   "pygments_lexer": "ipython3",
   "version": "3.9.2"
  },
  "vscode": {
   "interpreter": {
    "hash": "b469c69c7779680c4ee09c4775720b95d3e73aebb95b0b92945285ea0714cd4d"
   }
  }
 },
 "nbformat": 4,
 "nbformat_minor": 4
}
