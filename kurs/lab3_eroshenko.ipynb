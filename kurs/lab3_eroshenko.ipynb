{
 "cells": [
  {
   "cell_type": "markdown",
   "metadata": {},
   "source": [
    "# ROT13\n",
    "Given the word, the task is to obfuscate it. \n",
    "\n",
    "According to Wikipedia, ROT13 (http://en.wikipedia.org/wiki/ROT13) is frequently used to obfuscate phrases on USENET.\n",
    "\n",
    "Hint: For this task you're only supposed to substitue characters. Not spaces, punctuation, numbers etc.\n",
    "\n",
    "\n",
    "\n",
    "    Input: EBG13 rknzcyr.\n",
    "    Output: ROT13 example.\n",
    "\n",
    "    Input: This is my first ROT13 excercise!\n",
    "    Output: Guvf vf zl svefg EBG13 rkprepvfr!"
   ]
  },
  {
   "cell_type": "code",
   "execution_count": 6,
   "metadata": {},
   "outputs": [
    {
     "name": "stdin",
     "output_type": "stream",
     "text": [
      "Input:  This is my first ROT13 excercise!\n"
     ]
    },
    {
     "name": "stdout",
     "output_type": "stream",
     "text": [
      "Output: Guvf vf zl svefg EBG13 rkprepvfr!\n"
     ]
    }
   ],
   "source": [
    "alphabet_en = 'abcdefghijklmnopqrstuvwxyz'\n",
    "alphabet_rot13 = 'nopqrstuvwxyzabcdefghijklm'\n",
    "\n",
    "input_text = input(\"Input: \")\n",
    "res = \"\"\n",
    "for i in input_text:\n",
    "    if i.isalpha():\n",
    "        temp = alphabet_en.find(i.lower())\n",
    "        temp = alphabet_rot13[temp]\n",
    "        if i.islower():\n",
    "            res += temp\n",
    "        else:\n",
    "            res += temp.upper()\n",
    "    else:\n",
    "        res += i\n",
    "        \n",
    "print(f\"Output: {res}\")\n",
    "\n",
    "        \n",
    "        \n",
    "        "
   ]
  },
  {
   "cell_type": "markdown",
   "metadata": {},
   "source": [
    "# Roman Numerals Decoder\n",
    "\n",
    "Given a string. Create a function that takes a Roman numeral as its argument and returns its value as a numeric decimal integer. You don't need to validate the form of the Roman numeral.\n",
    "\n",
    "\n",
    "Modern Roman numerals are written by expressing each decimal digit of the number to be encoded separately, starting with the leftmost digit and skipping any 0s. So 1990 is rendered \"MCMXC\" (1000 = M, 900 = CM, 90 = XC) and 2008 is rendered \"MMVIII\" (2000 = MM, 8 = VIII). The Roman numeral for 1666, \"MDCLXVI\", uses each letter in descending order.\n",
    "\n",
    "    Input: XXI\n",
    "    Output: 21"
   ]
  },
  {
   "cell_type": "code",
   "execution_count": 23,
   "metadata": {},
   "outputs": [
    {
     "name": "stdin",
     "output_type": "stream",
     "text": [
      "Input:  XXI\n"
     ]
    },
    {
     "name": "stdout",
     "output_type": "stream",
     "text": [
      "Output: 21\n"
     ]
    }
   ],
   "source": [
    "dict_num = {\"I\": 1, \"V\": 5, \"X\": 10, \"L\": 50, \"C\": 100, \"D\":500, \"M\": 1000}\n",
    "\n",
    "input_num = input(\"Input: \")\n",
    "res = dict_num[input_num[0]]\n",
    "\n",
    "for i in range(1,len(input_num)):\n",
    "    res += dict_num[input_num[i]]\n",
    "    if dict_num[input_num[i-1]] < dict_num[input_num[i]]:\n",
    "        res -= dict_num[input_num[i-1]] * 2\n",
    "        \n",
    "print(f\"Output: {res}\")\n",
    "    "
   ]
  },
  {
   "cell_type": "code",
   "execution_count": null,
   "metadata": {},
   "outputs": [],
   "source": []
  }
 ],
 "metadata": {
  "kernelspec": {
   "display_name": "Python 3 (ipykernel)",
   "language": "python",
   "name": "python3"
  },
  "language_info": {
   "codemirror_mode": {
    "name": "ipython",
    "version": 3
   },
   "file_extension": ".py",
   "mimetype": "text/x-python",
   "name": "python",
   "nbconvert_exporter": "python",
   "pygments_lexer": "ipython3",
   "version": "3.9.2"
  }
 },
 "nbformat": 4,
 "nbformat_minor": 4
}
