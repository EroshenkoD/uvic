{
 "cells": [
  {
   "cell_type": "markdown",
   "metadata": {},
   "source": [
    "# Iterators task\n",
    "Given a number. Write iterator that prints n fibonacci numbers using `__iter__` and `__next__` methods.\n",
    "    \n",
    "    Input: 11\n",
    "    Output: 0 1 1 2 3 5 7 13 21 34 55"
   ]
  },
  {
   "cell_type": "code",
   "execution_count": 73,
   "metadata": {},
   "outputs": [
    {
     "name": "stdin",
     "output_type": "stream",
     "text": [
      "Input : 6\n"
     ]
    },
    {
     "name": "stdout",
     "output_type": "stream",
     "text": [
      "Output: 0 1 1 2 3 5 \n"
     ]
    }
   ],
   "source": [
    "class MyIterator:\n",
    "    def __init__(self, input_num):\n",
    "        self.max_num = input_num\n",
    "        self.cur_num = 0\n",
    "        \n",
    "        self.prev_num = -1\n",
    "        self.next_num = 1\n",
    "\n",
    "    def __next__(self):\n",
    "        self.prev_num, self.next_num = self.next_num, self.prev_num + self.next_num\n",
    "        self.cur_num += 1\n",
    "        if self.cur_num > self.max_num:\n",
    "            return \"stop\"\n",
    "        return self.next_num\n",
    "\n",
    "    def __iter__(self):\n",
    "        return self\n",
    "\n",
    "try:\n",
    "    input_num = int(input(\"Input :\"))\n",
    "    \n",
    "    iterator = MyIterator(input_num)\n",
    "    res = \"Output: \"\n",
    "    \n",
    "    while True:\n",
    "\n",
    "        next_num = next(iterator)\n",
    "        if next_num == \"stop\":\n",
    "            break\n",
    "        else: \n",
    "            res += str(f'{next_num} ')\n",
    "    print(res)\n",
    "except:\n",
    "    print(\"Data entry is error\")\n",
    "    \n",
    "\n",
    "    "
   ]
  },
  {
   "cell_type": "markdown",
   "metadata": {},
   "source": [
    "Write iterator that prints n fibonacci numbers using `__getitem__` method.\n",
    "    \n",
    "    Input: 11\n",
    "    Output: 0 1 1 2 3 5 7 13 21 34 55"
   ]
  },
  {
   "cell_type": "code",
   "execution_count": 77,
   "metadata": {},
   "outputs": [
    {
     "name": "stdin",
     "output_type": "stream",
     "text": [
      "Input : 6\n"
     ]
    },
    {
     "name": "stdout",
     "output_type": "stream",
     "text": [
      "Output: 0 1 1 2 3 5 \n"
     ]
    }
   ],
   "source": [
    "class MyIterator:\n",
    "    def __init__(self, input_num):\n",
    "        self.max_num = input_num\n",
    "        \n",
    "        self.prev_num = -1\n",
    "        self.next_num = 1\n",
    "\n",
    "    def __getitem__(self, item):\n",
    "        self.prev_num, self.next_num = self.next_num, self.prev_num + self.next_num\n",
    "        self.cur_num += 1\n",
    "        if item > self.max_num:\n",
    "            return \"stop\"\n",
    "        return self.next_num\n",
    "\n",
    "\n",
    "input_num = int(input(\"Input :\"))\n",
    "\n",
    "iterator = iter(my_iterator(input_num))\n",
    "res = \"Output: \"\n",
    "\n",
    "try:\n",
    "    while True:\n",
    "\n",
    "        next_num = next(iterator)\n",
    "        if next_num == \"stop\":\n",
    "            break\n",
    "        else: \n",
    "            res += str(f'{next_num} ')\n",
    "    print(res)\n",
    "except:\n",
    "    print(\"Data entry is error\")"
   ]
  },
  {
   "cell_type": "markdown",
   "metadata": {},
   "source": [
    "# RGB To Hex Conversion\n",
    "Given 3 numbers. Write the function so that passing in RGB decimal values will result in a hexadecimal representation being returned. Valid decimal values for RGB are 0 - 255. Any values that fall out of that range must be rounded to the closest valid value.\n",
    "\n",
    "Note: Your answer should always be 6 characters long, the shorthand with 3 will not work here.\n",
    "\n",
    "    \n",
    "    Input: 255, 255, 255\n",
    "    Output: FFFFFF\n",
    "\n",
    "    Input: 255, 255, 300\n",
    "    Output: FFFFFF\n",
    "\n",
    "    Input: 148, 0, 211\n",
    "    Output: 9400D3\n"
   ]
  },
  {
   "cell_type": "code",
   "execution_count": 27,
   "metadata": {},
   "outputs": [
    {
     "name": "stdin",
     "output_type": "stream",
     "text": [
      "Input : -255, 255, 255\n"
     ]
    },
    {
     "name": "stdout",
     "output_type": "stream",
     "text": [
      "Output: 00FFFF\n"
     ]
    }
   ],
   "source": [
    "try:\n",
    "    a, b, c = map(int, input(\"Input :\").split(\",\"))\n",
    "    list_num = [a,b,c]\n",
    "    res = \"\"\n",
    "    for i in list_num:\n",
    "        if i < 0:\n",
    "            i = 0\n",
    "        elif i > 255:\n",
    "            i = 255\n",
    "        res += hex(i)[2:]\n",
    "        if len(res)%2:\n",
    "            res += hex(i)[2:]\n",
    "    res = f\"Output: {res.upper()}\"\n",
    "except:\n",
    "    res = \"Data entry is error\"\n",
    "    \n",
    "print (res)\n",
    "        \n",
    "    "
   ]
  },
  {
   "cell_type": "markdown",
   "metadata": {
    "tags": []
   },
   "source": [
    "# To square(root) or not to square(root)\n",
    "Given an array of number. Write a method, that will get a number array as parameter and will process every number from this array.\n",
    "\n",
    "\n",
    "Return a new array with processing every number of the input-array like this:\n",
    "\n",
    "\n",
    "If the number has an rational square root, take this, otherwise square the number.\n",
    "\n",
    "    \n",
    "    Input:  [4,3,9,7,2,1]\n",
    "    Output: [2,9,3,49,4,1]\n",
    "\n",
    "    Input: [1.21,0,9]\n",
    "    Output: [1.1,0,3]"
   ]
  },
  {
   "cell_type": "code",
   "execution_count": 62,
   "metadata": {},
   "outputs": [
    {
     "name": "stdin",
     "output_type": "stream",
     "text": [
      "Input:  1.21,0,9\n"
     ]
    },
    {
     "name": "stdout",
     "output_type": "stream",
     "text": [
      "Output: [1.1, 0, 3]\n"
     ]
    }
   ],
   "source": [
    "def IntNum(num):\n",
    "    res_num = num ** 0.5\n",
    "    return int(res_num) if int(res_num) == res_num else int(num **2)\n",
    "\n",
    "def FloatNum(num):\n",
    "    res_num = num ** 0.5\n",
    "    return res_num if len(str(num))>len(str(res_num)) else num **2\n",
    "try:\n",
    "    list_input = list(map(float,input(\"Input: \").strip().split(\",\")))\n",
    "    res_list = []\n",
    "\n",
    "    for i in list_input:\n",
    "        if int(i) == i:\n",
    "            res_list.append(IntNum(i))\n",
    "        else:\n",
    "            res_list.append(FloatNum(i))\n",
    "\n",
    "    print(f\"Output: {res_list}\")\n",
    "except:\n",
    "    print(\"Data entry is error\")"
   ]
  },
  {
   "cell_type": "code",
   "execution_count": null,
   "metadata": {},
   "outputs": [],
   "source": []
  }
 ],
 "metadata": {
  "interpreter": {
   "hash": "b469c69c7779680c4ee09c4775720b95d3e73aebb95b0b92945285ea0714cd4d"
  },
  "kernelspec": {
   "display_name": "Python 3 (ipykernel)",
   "language": "python",
   "name": "python3"
  },
  "language_info": {
   "codemirror_mode": {
    "name": "ipython",
    "version": 3
   },
   "file_extension": ".py",
   "mimetype": "text/x-python",
   "name": "python",
   "nbconvert_exporter": "python",
   "pygments_lexer": "ipython3",
   "version": "3.9.2"
  }
 },
 "nbformat": 4,
 "nbformat_minor": 4
}
